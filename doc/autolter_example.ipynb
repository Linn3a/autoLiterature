{
 "cells": [
  {
   "cell_type": "markdown",
   "id": "ec0def0a",
   "metadata": {},
   "source": [
    "# autoliter example\n",
    "该文件仅作演示使用，文中所有命令去掉`!`都是`bash`命令。比如`!pip list`在jupyter notebook中 == `pip list`在终端。\n",
    "\n",
    "## 准备\n",
    "### 安装 autoliter"
   ]
  },
  {
   "cell_type": "code",
   "execution_count": 1,
   "id": "96404bec",
   "metadata": {},
   "outputs": [
    {
     "name": "stdout",
     "output_type": "stream",
     "text": [
      "autoliter                     0.1.2       /Users/wilmer/E/code/autoLiterature\r\n"
     ]
    }
   ],
   "source": [
    "! pip install autoliter \n",
    "! pip list | grep autoliter"
   ]
  },
  {
   "cell_type": "markdown",
   "id": "4ef141af",
   "metadata": {},
   "source": [
    "### 代理环境\n",
    "由于arxiv,sci-hub等网站在国内可能连接不上，所以最好有一个可以连接外网的代理。\n",
    "- 如果个人PC用的clash软件，默认的端口是`7890`,那么我们就可以通过`127.0.0.1:7890`来使用autoliter\n",
    "- 如果用的其他服务的代理，找到服务器的代理端口，可以通过`服务器Ip:服务器Port`来使用autoliter\n",
    "\n",
    "测试一下代理环境:\n",
    "\n",
    "自行确定代理端口以及ip地址，然后浏览器查看能否连通google.com, 确保无误后再接着往下走。\n",
    "\n",
    "### 文档准备\n",
    "在目录下使用`note_example.md`作为笔记,那么`./`文件夹路径就可以认为是所有笔记的总文件夹路径。"
   ]
  },
  {
   "cell_type": "code",
   "execution_count": 2,
   "id": "400ecc5d",
   "metadata": {},
   "outputs": [
    {
     "name": "stdout",
     "output_type": "stream",
     "text": [
      "- {10.1038/s41592-022-01549-5}\r\n",
      "  - 文献Meta信息\r\n",
      "\r\n",
      "- {{2208.06175}}\r\n",
      "  - 文献Meta信息和PDF文件\r\n"
     ]
    }
   ],
   "source": [
    "def note_init():\n",
    "    # # 增加一个仅下载文献Meta信息，不下载文献PDF的标识 - {*}\n",
    "    # !echo -e \"- {10.1038/s41592-022-01549-5}\\n  - 文献Meta信息\\n\" > note_example.md\n",
    "    # # 再追加一个既下载Meta信息，又下载PDF文件的标识 - {{*}}\n",
    "    # !echo -e \"- {{2208.06175}}\\n  - 文献Meta信息和PDF文件\" >> note_example.md\n",
    "    with open(\"note_example.md\", 'w', encoding=\"UTF-8\") as f:\n",
    "        f.write(\"- {10.1038/s41592-022-01549-5}\\n  - 文献Meta信息\\n\\n\")\n",
    "        f.write(\"- {{2208.06175}}\\n  - 文献Meta信息和PDF文件\\n\")\n",
    "\n",
    "    # 查看一下 note_example.md 中的内容\n",
    "    !cat note_example.md\n",
    "note_init()"
   ]
  },
  {
   "cell_type": "markdown",
   "id": "4177cc3f",
   "metadata": {},
   "source": [
    "## autoliter使用\n",
    "在准备好以上工作之后,就可以演示如何使用`autoliter`了。当然，以上准备工作你也可以用其他方式完成。\n",
    "\n",
    "### 常规使用\n",
    "#### 下载更新文献笔记"
   ]
  },
  {
   "cell_type": "code",
   "execution_count": 3,
   "id": "74b0cf75",
   "metadata": {},
   "outputs": [
    {
     "name": "stdout",
     "output_type": "stream",
     "text": [
      "INFO:AutoLiter:正在更新文件 note_example.md\n",
      "INFO:AutoLiter:需要下载的文献个数 -  2\n",
      "100%|█████████████████████████████████████████████| 2/2 [00:17<00:00,  8.79s/it]\n"
     ]
    }
   ],
   "source": [
    "# 更新 note_example.md\n",
    "!autoliter -i note_example.md -o pdfs -p \"127.0.0.1:7890\""
   ]
  },
  {
   "cell_type": "code",
   "execution_count": 4,
   "id": "ca08aef3",
   "metadata": {},
   "outputs": [
    {
     "name": "stdout",
     "output_type": "stream",
     "text": [
      "- **Functional ultrasound localization microscopy reveals brain-wide neurovascular activity on a microscopic scale**. Renaudin Noémi et.al. **Nat Methods**, **2022-8**, ([link](http://dx.doi.org/10.1038/s41592-022-01549-5)).\r\n",
      "  - 文献Meta信息\r\n",
      "\r\n",
      "- **The Weighting Game: Evaluating Quality of Explainability Methods**. Lassi Raatikainen et.al. **arxiv**, **2022**, ([pdf](pdfs/The_Weighting_Game:_Evaluating_Quality_of_Explainability_Methods.pdf))([link](http://arxiv.org/abs/2208.06175v1)).\r\n",
      "  - 文献Meta信息和PDF文件\r\n"
     ]
    }
   ],
   "source": [
    "# 查看更新的笔记\n",
    "!cat note_example.md"
   ]
  },
  {
   "cell_type": "code",
   "execution_count": 5,
   "id": "7d9fc63b",
   "metadata": {},
   "outputs": [
    {
     "name": "stdout",
     "output_type": "stream",
     "text": [
      "The_Weighting_Game:_Evaluating_Quality_of_Explainability_Methods.pdf\r\n"
     ]
    }
   ],
   "source": [
    "# 查看下载的PDF文件\n",
    "!ls pdfs"
   ]
  },
  {
   "cell_type": "markdown",
   "id": "c1cdf12d",
   "metadata": {},
   "source": [
    "#### -d 的使用"
   ]
  },
  {
   "cell_type": "code",
   "execution_count": 6,
   "id": "00b68ddc",
   "metadata": {},
   "outputs": [
    {
     "name": "stdout",
     "output_type": "stream",
     "text": [
      "\r\n"
     ]
    }
   ],
   "source": [
    "# 初始化文献笔记，这时候文献内pdf链接已经被删除了，但是PDF文件还未删除。可以通过-d来同步\n",
    "## 先初始化笔记为空\n",
    "!echo \"\" > note_example.md\n",
    "!cat note_example.md"
   ]
  },
  {
   "cell_type": "code",
   "execution_count": 7,
   "id": "d96e5914",
   "metadata": {},
   "outputs": [
    {
     "name": "stdout",
     "output_type": "stream",
     "text": [
      "INFO:AutoLiter:正在更新文件 ./note_example.md\r\n",
      "INFO:AutoLiter:需要下载的文献个数 -  0\r\n",
      "INFO:AutoLiter:未找到需要下载的文献, 文件 ./note_example.md 未更新.\r\n",
      "INFO:AutoLiter:若要删除笔记无关PDF实体, 输入的路径必须是笔记总文件夹!!!请谨慎使用该参数!!!\r\n"
     ]
    }
   ],
   "source": [
    "## 再通过 -m 更新 (更新的时候，怕误删其他笔记里有用的链接，因此-i必须是note总文件夹路径)\n",
    "!autoliter -i ./note_example.md -o pdfs -p \"127.0.0.1:7890\" -d"
   ]
  },
  {
   "cell_type": "code",
   "execution_count": 8,
   "id": "e8224635",
   "metadata": {},
   "outputs": [
    {
     "name": "stdout",
     "output_type": "stream",
     "text": [
      "INFO:AutoLiter:正在更新文件 ./note_example.md\r\n",
      "INFO:AutoLiter:需要下载的文献个数 -  0\r\n",
      "INFO:AutoLiter:未找到需要下载的文献, 文件 ./note_example.md 未更新.\r\n",
      "INFO:AutoLiter:已删除 1 个PDF文件\r\n"
     ]
    }
   ],
   "source": [
    "!autoliter -i ./ -o pdfs -d"
   ]
  },
  {
   "cell_type": "markdown",
   "id": "5fe845ae",
   "metadata": {},
   "source": [
    "### 文件迁移\n",
    "当移动PDF文件夹或者note文件的位置后，note文件内容中关于pdf的链接就变的不可用了。这时候可以用`-m`来解决这个问题\n",
    "\n",
    "首先先下载几个PDF文件"
   ]
  },
  {
   "cell_type": "code",
   "execution_count": 9,
   "id": "de62c125",
   "metadata": {},
   "outputs": [
    {
     "name": "stdout",
     "output_type": "stream",
     "text": [
      "- {10.1038/s41592-022-01549-5}\n",
      "  - 文献Meta信息\n",
      "\n",
      "- {{2208.06175}}\n",
      "  - 文献Meta信息和PDF文件\n",
      "INFO:AutoLiter:正在更新文件 ./note_example.md\n",
      "INFO:AutoLiter:需要下载的文献个数 -  2\n",
      "100%|█████████████████████████████████████████████| 2/2 [00:17<00:00,  8.84s/it]\n"
     ]
    }
   ],
   "source": [
    "note_init()\n",
    "!autoliter -i ./ -o pdfs/ -p \"127.0.0.1:7890\""
   ]
  },
  {
   "cell_type": "code",
   "execution_count": 10,
   "id": "5251e0fe",
   "metadata": {},
   "outputs": [
    {
     "name": "stdout",
     "output_type": "stream",
     "text": [
      "- **The Weighting Game: Evaluating Quality of Explainability Methods**. Lassi Raatikainen et.al. **arxiv**, **2022**, ([pdf](pdfs/The_Weighting_Game:_Evaluating_Quality_of_Explainability_Methods.pdf))([link](http://arxiv.org/abs/2208.06175v1)).\r\n"
     ]
    }
   ],
   "source": [
    "# 查看笔记中的pdf路径\n",
    "!cat note_example.md | grep pdf"
   ]
  },
  {
   "cell_type": "code",
   "execution_count": 11,
   "id": "a2285b64",
   "metadata": {},
   "outputs": [
    {
     "name": "stdout",
     "output_type": "stream",
     "text": [
      "INFO:AutoLiter:共匹配到 - 1 - 个PDF文件\r\n"
     ]
    }
   ],
   "source": [
    "# 移动PDF文件夹\n",
    "!mv pdfs/ movedPdfs\n",
    "\n",
    "# 然后重新链接笔记和 movedPdfs文件夹\n",
    "!autoliter -i ./ -m movedPdfs"
   ]
  },
  {
   "cell_type": "code",
   "execution_count": 12,
   "id": "114d6219",
   "metadata": {},
   "outputs": [
    {
     "name": "stdout",
     "output_type": "stream",
     "text": [
      "- **The Weighting Game: Evaluating Quality of Explainability Methods**. Lassi Raatikainen et.al. **arxiv**, **2022**, ([pdf](movedPdfs/pdfs/The_Weighting_Game:_Evaluating_Quality_of_Explainability_Methods.pdf))([link](http://arxiv.org/abs/2208.06175v1)).\r\n"
     ]
    }
   ],
   "source": [
    "# 查看从新开始链接的文件\n",
    "!cat note_example.md | grep pdf"
   ]
  },
  {
   "cell_type": "markdown",
   "id": "92518814",
   "metadata": {},
   "source": [
    "## 其它\n",
    "关于`-p`代理这个参数，如果人在国外，每次都不用使用，是最方便的。\n",
    "\n",
    "不然可以在.zashrc (macos) 文件中写入\n",
    "```\n",
    "# add proxy\n",
    "alias setproxy=\"export http_proxy=http://127.0.0.1:7890; export https_proxy=http://127.0.0.1:7890\"\n",
    "alias unsetproxy=\"unset http_proxy; unset https_proxy\"\n",
    "# add proxy\n",
    "```\n",
    "这样每次可以在使用`autoliter`之前使用`setproxy`使终端http走代理。然后`autoliter`中`-p`就不用每次都加了。\n",
    "\n",
    "比如\n",
    "```bash \n",
    "setproxy\n",
    "autoliter -i ./ -o pdfs\n",
    "```"
   ]
  },
  {
   "cell_type": "code",
   "execution_count": null,
   "id": "0f7344ac",
   "metadata": {},
   "outputs": [],
   "source": []
  }
 ],
 "metadata": {
  "kernelspec": {
   "display_name": "Python 3 (ipykernel)",
   "language": "python",
   "name": "python3"
  },
  "language_info": {
   "codemirror_mode": {
    "name": "ipython",
    "version": 3
   },
   "file_extension": ".py",
   "mimetype": "text/x-python",
   "name": "python",
   "nbconvert_exporter": "python",
   "pygments_lexer": "ipython3",
   "version": "3.8.13"
  }
 },
 "nbformat": 4,
 "nbformat_minor": 5
}
